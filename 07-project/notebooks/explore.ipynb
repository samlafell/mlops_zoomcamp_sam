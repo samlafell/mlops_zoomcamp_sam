{
 "cells": [
  {
   "cell_type": "code",
   "execution_count": 33,
   "metadata": {},
   "outputs": [],
   "source": [
    "import os\n",
    "import json\n",
    "import base64\n",
    "import pathlib\n",
    "import polars as pl\n",
    "import boto3\n",
    "#import mlflow"
   ]
  },
  {
   "cell_type": "code",
   "execution_count": 34,
   "metadata": {},
   "outputs": [
    {
     "data": {
      "text/plain": [
       "'/Users/samlafell/Desktop/mlops_zoomcamp_sam/07-project/notebooks'"
      ]
     },
     "execution_count": 34,
     "metadata": {},
     "output_type": "execute_result"
    }
   ],
   "source": [
    "os.getcwd()"
   ]
  },
  {
   "cell_type": "code",
   "execution_count": 35,
   "metadata": {},
   "outputs": [],
   "source": [
    "class GetPaths():\n",
    "    def __init__(self):\n",
    "        self.project_root_path = pathlib.Path().absolute().parent\n",
    "    \n",
    "    def get_data_path(self):\n",
    "        return self.project_root_path / 'data'\n",
    "    \n",
    "    def get_models_path(self):\n",
    "        return self.project_root_path / 'models'\n",
    "        \n",
    "path = GetPaths()\n",
    "data_path = path.get_data_path()\n",
    "model_path = path.get_models_path()"
   ]
  },
  {
   "cell_type": "code",
   "execution_count": 37,
   "metadata": {},
   "outputs": [
    {
     "data": {
      "text/plain": [
       "['.gitkeep',\n",
       " 'submission_format.csv',\n",
       " 'dengue_labels_train.csv',\n",
       " 'dengue_features_train.csv',\n",
       " 'dengue_features_test.csv']"
      ]
     },
     "execution_count": 37,
     "metadata": {},
     "output_type": "execute_result"
    }
   ],
   "source": [
    "os.listdir(data_path / 'raw')"
   ]
  },
  {
   "cell_type": "code",
   "execution_count": 45,
   "metadata": {},
   "outputs": [],
   "source": [
    "def import_training(train_df: pathlib.Path) -> pl.DataFrame():\n",
    "    \"\"\"Import Data\n",
    "\n",
    "    Args:\n",
    "        train_df (pathlib.Path): Give path of data\n",
    "\n",
    "    Returns:\n",
    "        df (polars.DataFrame): Return Polars Dataframe\n",
    "    \"\"\"\n",
    "    return pl.read_csv(train_df)\n",
    "    \n",
    "dengue_features = import_training(train_df = data_path / 'raw' / 'dengue_features_train.csv')"
   ]
  },
  {
   "cell_type": "code",
   "execution_count": 65,
   "metadata": {},
   "outputs": [
    {
     "name": "stdout",
     "output_type": "stream",
     "text": [
      "San Juan, PR with 936 rows\n",
      "Iquitos, Peru with 520 rows\n"
     ]
    }
   ],
   "source": [
    "print(f\"San Juan, PR with {len(dengue_features.filter(pl.col('city') == 'sj'))} rows\")\n",
    "print(f\"Iquitos, Peru with {len(dengue_features.filter(pl.col('city') == 'iq'))} rows\")"
   ]
  },
  {
   "cell_type": "code",
   "execution_count": null,
   "metadata": {},
   "outputs": [],
   "source": []
  }
 ],
 "metadata": {
  "kernelspec": {
   "display_name": "07-project-Mi9wAmi5-python",
   "language": "python",
   "name": "python3"
  },
  "language_info": {
   "codemirror_mode": {
    "name": "ipython",
    "version": 3
   },
   "file_extension": ".py",
   "mimetype": "text/x-python",
   "name": "python",
   "nbconvert_exporter": "python",
   "pygments_lexer": "ipython3",
   "version": "3.10.9"
  },
  "orig_nbformat": 4
 },
 "nbformat": 4,
 "nbformat_minor": 2
}
