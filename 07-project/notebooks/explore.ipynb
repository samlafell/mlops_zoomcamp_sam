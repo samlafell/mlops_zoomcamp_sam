{
 "cells": [
  {
   "cell_type": "code",
   "execution_count": 1,
   "metadata": {},
   "outputs": [],
   "source": [
    "import os\n",
    "import json\n",
    "import base64\n",
    "import pathlib\n",
    "import polars as pl\n",
    "import boto3\n",
    "import pyarrow\n",
    "import pandas as pd\n",
    "import plotly.express as px\n",
    "from datetime import datetime, timedelta\n",
    "from functools import partial\n",
    "#import mlflow"
   ]
  },
  {
   "cell_type": "code",
   "execution_count": 2,
   "metadata": {},
   "outputs": [
    {
     "data": {
      "text/plain": [
       "'/Users/samlafell/Desktop/mlops_zoomcamp_sam/07-project/notebooks'"
      ]
     },
     "execution_count": 2,
     "metadata": {},
     "output_type": "execute_result"
    }
   ],
   "source": [
    "os.getcwd()"
   ]
  },
  {
   "cell_type": "code",
   "execution_count": 3,
   "metadata": {},
   "outputs": [],
   "source": [
    "class GetPaths():\n",
    "    def __init__(self):\n",
    "        self.project_root_path = pathlib.Path().absolute().parent\n",
    "    \n",
    "    def get_data_path(self):\n",
    "        return self.project_root_path / 'data'\n",
    "    \n",
    "    def get_models_path(self):\n",
    "        return self.project_root_path / 'models'\n",
    "        \n",
    "path = GetPaths()\n",
    "data_path = path.get_data_path()\n",
    "model_path = path.get_models_path()"
   ]
  },
  {
   "cell_type": "code",
   "execution_count": 4,
   "metadata": {},
   "outputs": [
    {
     "data": {
      "text/plain": [
       "['.gitkeep',\n",
       " 'submission_format.csv',\n",
       " 'dengue_labels_train.csv',\n",
       " 'dengue_features_train.csv',\n",
       " 'dengue_features_test.csv']"
      ]
     },
     "execution_count": 4,
     "metadata": {},
     "output_type": "execute_result"
    }
   ],
   "source": [
    "os.listdir(data_path / 'raw')"
   ]
  },
  {
   "cell_type": "code",
   "execution_count": 45,
   "metadata": {},
   "outputs": [],
   "source": [
    "def import_data(df_path: pathlib.Path) -> pl.DataFrame():\n",
    "    \"\"\"Import Data\n",
    "\n",
    "    Args:\n",
    "        train_df (pathlib.Path): Give path of data\n",
    "\n",
    "    Returns:\n",
    "        df (polars.DataFrame): Return Polars Dataframe\n",
    "    \"\"\"\n",
    "    return pl.read_csv(df_path)\n",
    "\n",
    "\n",
    "def str_to_date(date_str, date_format = '%m/%d/%y'):\n",
    "    \"\"\"Convert String to a date\n",
    "\n",
    "    Args:\n",
    "        date_str (_type_): _description_\n",
    "\n",
    "    Returns:\n",
    "        _type_: _description_\n",
    "    \"\"\"\n",
    "    return datetime.strptime(date_str, date_format).date()"
   ]
  },
  {
   "cell_type": "code",
   "execution_count": 59,
   "metadata": {},
   "outputs": [],
   "source": [
    "training_features = import_data(df_path = data_path / 'raw' / 'dengue_features_train.csv')\n",
    "training_labels = import_data(data_path / 'raw' / 'dengue_labels_train.csv')"
   ]
  },
  {
   "cell_type": "code",
   "execution_count": 60,
   "metadata": {},
   "outputs": [
    {
     "data": {
      "text/html": [
       "<div><style>\n",
       ".dataframe > thead > tr > th,\n",
       ".dataframe > tbody > tr > td {\n",
       "  text-align: right;\n",
       "}\n",
       "</style>\n",
       "<small>shape: (468, 4)</small><table border=\"1\" class=\"dataframe\"><thead><tr><th>season_week</th><th>total_cases_v2</th><th>week</th><th>city</th></tr><tr><td>i64</td><td>i64</td><td>date</td><td>str</td></tr></thead><tbody><tr><td>1</td><td>0</td><td>2000-07-01</td><td>&quot;iq&quot;</td></tr><tr><td>2</td><td>0</td><td>2000-07-08</td><td>&quot;iq&quot;</td></tr><tr><td>3</td><td>0</td><td>2000-07-15</td><td>&quot;iq&quot;</td></tr><tr><td>4</td><td>0</td><td>2000-07-22</td><td>&quot;iq&quot;</td></tr><tr><td>5</td><td>0</td><td>2000-07-29</td><td>&quot;iq&quot;</td></tr><tr><td>6</td><td>0</td><td>2000-08-05</td><td>&quot;iq&quot;</td></tr><tr><td>7</td><td>0</td><td>2000-08-12</td><td>&quot;iq&quot;</td></tr><tr><td>8</td><td>0</td><td>2000-08-19</td><td>&quot;iq&quot;</td></tr><tr><td>9</td><td>0</td><td>2000-08-26</td><td>&quot;iq&quot;</td></tr><tr><td>10</td><td>0</td><td>2000-09-02</td><td>&quot;iq&quot;</td></tr><tr><td>11</td><td>1</td><td>2000-09-09</td><td>&quot;iq&quot;</td></tr><tr><td>12</td><td>0</td><td>2000-09-16</td><td>&quot;iq&quot;</td></tr><tr><td>&hellip;</td><td>&hellip;</td><td>&hellip;</td><td>&hellip;</td></tr><tr><td>41</td><td>3</td><td>2009-04-09</td><td>&quot;iq&quot;</td></tr><tr><td>42</td><td>5</td><td>2009-04-16</td><td>&quot;iq&quot;</td></tr><tr><td>43</td><td>5</td><td>2009-04-23</td><td>&quot;iq&quot;</td></tr><tr><td>44</td><td>4</td><td>2009-04-30</td><td>&quot;iq&quot;</td></tr><tr><td>45</td><td>4</td><td>2009-05-07</td><td>&quot;iq&quot;</td></tr><tr><td>46</td><td>1</td><td>2009-05-14</td><td>&quot;iq&quot;</td></tr><tr><td>47</td><td>0</td><td>2009-05-21</td><td>&quot;iq&quot;</td></tr><tr><td>48</td><td>2</td><td>2009-05-28</td><td>&quot;iq&quot;</td></tr><tr><td>49</td><td>3</td><td>2009-06-04</td><td>&quot;iq&quot;</td></tr><tr><td>50</td><td>3</td><td>2009-06-11</td><td>&quot;iq&quot;</td></tr><tr><td>51</td><td>5</td><td>2009-06-18</td><td>&quot;iq&quot;</td></tr><tr><td>52</td><td>2</td><td>2009-06-25</td><td>&quot;iq&quot;</td></tr></tbody></table></div>"
      ],
      "text/plain": [
       "shape: (468, 4)\n",
       "┌─────────────┬────────────────┬────────────┬──────┐\n",
       "│ season_week ┆ total_cases_v2 ┆ week       ┆ city │\n",
       "│ ---         ┆ ---            ┆ ---        ┆ ---  │\n",
       "│ i64         ┆ i64            ┆ date       ┆ str  │\n",
       "╞═════════════╪════════════════╪════════════╪══════╡\n",
       "│ 1           ┆ 0              ┆ 2000-07-01 ┆ iq   │\n",
       "│ 2           ┆ 0              ┆ 2000-07-08 ┆ iq   │\n",
       "│ 3           ┆ 0              ┆ 2000-07-15 ┆ iq   │\n",
       "│ 4           ┆ 0              ┆ 2000-07-22 ┆ iq   │\n",
       "│ …           ┆ …              ┆ …          ┆ …    │\n",
       "│ 49          ┆ 3              ┆ 2009-06-04 ┆ iq   │\n",
       "│ 50          ┆ 3              ┆ 2009-06-11 ┆ iq   │\n",
       "│ 51          ┆ 5              ┆ 2009-06-18 ┆ iq   │\n",
       "│ 52          ┆ 2              ┆ 2009-06-25 ┆ iq   │\n",
       "└─────────────┴────────────────┴────────────┴──────┘"
      ]
     },
     "execution_count": 60,
     "metadata": {},
     "output_type": "execute_result"
    }
   ],
   "source": [
    "iquitos_denguesite = import_data(data_path / 'raw' / 'iquitos_target.csv') \\\n",
    "    .select('season_week', 'week_start_date', 'total_cases') \\\n",
    "    .rename({'total_cases':'total_cases_v2'}) \\\n",
    "    .with_columns(pl.col(\"week_start_date\").apply(str_to_date, return_dtype=pl.Date).alias(\"week\")) \\\n",
    "    .with_columns(pl.lit('iq').alias('city')) \\\n",
    "    .drop('week_start_date')\n",
    "    \n",
    "\n",
    "four_digit_strtodate = partial(str_to_date, date_format = \"%Y-%m-%d\")\n",
    "training_features = training_features \\\n",
    "    .with_columns(pl.col(\"week_start_date\").apply(four_digit_strtodate, return_dtype=pl.Date).alias(\"week\"))\n",
    "    "
   ]
  },
  {
   "cell_type": "code",
   "execution_count": 62,
   "metadata": {},
   "outputs": [
    {
     "data": {
      "text/html": [
       "<div><style>\n",
       ".dataframe > thead > tr > th,\n",
       ".dataframe > tbody > tr > td {\n",
       "  text-align: right;\n",
       "}\n",
       "</style>\n",
       "<small>shape: (10, 25)</small><table border=\"1\" class=\"dataframe\"><thead><tr><th>city</th><th>year</th><th>weekofyear</th><th>week_start_date</th><th>ndvi_ne</th><th>ndvi_nw</th><th>ndvi_se</th><th>ndvi_sw</th><th>precipitation_amt_mm</th><th>reanalysis_air_temp_k</th><th>reanalysis_avg_temp_k</th><th>reanalysis_dew_point_temp_k</th><th>reanalysis_max_air_temp_k</th><th>reanalysis_min_air_temp_k</th><th>reanalysis_precip_amt_kg_per_m2</th><th>reanalysis_relative_humidity_percent</th><th>reanalysis_sat_precip_amt_mm</th><th>reanalysis_specific_humidity_g_per_kg</th><th>reanalysis_tdtr_k</th><th>station_avg_temp_c</th><th>station_diur_temp_rng_c</th><th>station_max_temp_c</th><th>station_min_temp_c</th><th>station_precip_mm</th><th>week</th></tr><tr><td>str</td><td>i64</td><td>i64</td><td>str</td><td>f64</td><td>f64</td><td>f64</td><td>f64</td><td>f64</td><td>f64</td><td>f64</td><td>f64</td><td>f64</td><td>f64</td><td>f64</td><td>f64</td><td>f64</td><td>f64</td><td>f64</td><td>f64</td><td>f64</td><td>f64</td><td>f64</td><td>f64</td><td>date</td></tr></thead><tbody><tr><td>&quot;sj&quot;</td><td>1990</td><td>18</td><td>&quot;1990-04-30&quot;</td><td>0.1226</td><td>0.103725</td><td>0.1984833</td><td>0.1776167</td><td>12.42</td><td>297.572857</td><td>297.742857</td><td>292.414286</td><td>299.8</td><td>295.9</td><td>32.0</td><td>73.365714</td><td>12.42</td><td>14.012857</td><td>2.628571</td><td>25.442857</td><td>6.9</td><td>29.4</td><td>20.0</td><td>16.0</td><td>1990-04-30</td></tr><tr><td>&quot;sj&quot;</td><td>1990</td><td>19</td><td>&quot;1990-05-07&quot;</td><td>0.1699</td><td>0.142175</td><td>0.1623571</td><td>0.1554857</td><td>22.82</td><td>298.211429</td><td>298.442857</td><td>293.951429</td><td>300.9</td><td>296.4</td><td>17.94</td><td>77.368571</td><td>22.82</td><td>15.372857</td><td>2.371429</td><td>26.714286</td><td>6.371429</td><td>31.7</td><td>22.2</td><td>8.6</td><td>1990-05-07</td></tr><tr><td>&quot;sj&quot;</td><td>1990</td><td>20</td><td>&quot;1990-05-14&quot;</td><td>0.03225</td><td>0.1729667</td><td>0.1572</td><td>0.1708429</td><td>34.54</td><td>298.781429</td><td>298.878571</td><td>295.434286</td><td>300.5</td><td>297.3</td><td>26.1</td><td>82.052857</td><td>34.54</td><td>16.848571</td><td>2.3</td><td>26.714286</td><td>6.485714</td><td>32.2</td><td>22.8</td><td>41.4</td><td>1990-05-14</td></tr><tr><td>&quot;sj&quot;</td><td>1990</td><td>21</td><td>&quot;1990-05-21&quot;</td><td>0.1286333</td><td>0.2450667</td><td>0.2275571</td><td>0.2358857</td><td>15.36</td><td>298.987143</td><td>299.228571</td><td>295.31</td><td>301.4</td><td>297.0</td><td>13.9</td><td>80.337143</td><td>15.36</td><td>16.672857</td><td>2.428571</td><td>27.471429</td><td>6.771429</td><td>33.3</td><td>23.3</td><td>4.0</td><td>1990-05-21</td></tr><tr><td>&quot;sj&quot;</td><td>1990</td><td>22</td><td>&quot;1990-05-28&quot;</td><td>0.1962</td><td>0.2622</td><td>0.2512</td><td>0.24734</td><td>7.52</td><td>299.518571</td><td>299.664286</td><td>295.821429</td><td>301.9</td><td>297.5</td><td>12.2</td><td>80.46</td><td>7.52</td><td>17.21</td><td>3.014286</td><td>28.942857</td><td>9.371429</td><td>35.0</td><td>23.9</td><td>5.8</td><td>1990-05-28</td></tr><tr><td>&quot;sj&quot;</td><td>1990</td><td>23</td><td>&quot;1990-06-04&quot;</td><td>null</td><td>0.17485</td><td>0.2543143</td><td>0.1817429</td><td>9.58</td><td>299.63</td><td>299.764286</td><td>295.851429</td><td>302.4</td><td>298.1</td><td>26.49</td><td>79.891429</td><td>9.58</td><td>17.212857</td><td>2.1</td><td>28.114286</td><td>6.942857</td><td>34.4</td><td>23.9</td><td>39.1</td><td>1990-06-04</td></tr><tr><td>&quot;sj&quot;</td><td>1990</td><td>24</td><td>&quot;1990-06-11&quot;</td><td>0.1129</td><td>0.0928</td><td>0.2050714</td><td>0.2102714</td><td>3.48</td><td>299.207143</td><td>299.221429</td><td>295.865714</td><td>301.3</td><td>297.7</td><td>38.6</td><td>82.0</td><td>3.48</td><td>17.234286</td><td>2.042857</td><td>27.414286</td><td>6.771429</td><td>32.2</td><td>23.3</td><td>29.7</td><td>1990-06-11</td></tr><tr><td>&quot;sj&quot;</td><td>1990</td><td>25</td><td>&quot;1990-06-18&quot;</td><td>0.0725</td><td>0.0725</td><td>0.1514714</td><td>0.1330286</td><td>151.12</td><td>299.591429</td><td>299.528571</td><td>296.531429</td><td>300.6</td><td>298.4</td><td>30.0</td><td>83.375714</td><td>151.12</td><td>17.977143</td><td>1.571429</td><td>28.371429</td><td>7.685714</td><td>33.9</td><td>22.8</td><td>21.1</td><td>1990-06-18</td></tr><tr><td>&quot;sj&quot;</td><td>1990</td><td>26</td><td>&quot;1990-06-25&quot;</td><td>0.10245</td><td>0.146175</td><td>0.1255714</td><td>0.1236</td><td>19.32</td><td>299.578571</td><td>299.557143</td><td>296.378571</td><td>302.1</td><td>297.7</td><td>37.51</td><td>82.768571</td><td>19.32</td><td>17.79</td><td>1.885714</td><td>28.328571</td><td>7.385714</td><td>33.9</td><td>22.8</td><td>21.1</td><td>1990-06-25</td></tr><tr><td>&quot;sj&quot;</td><td>1990</td><td>27</td><td>&quot;1990-07-02&quot;</td><td>null</td><td>0.12155</td><td>0.1606833</td><td>0.2025667</td><td>14.41</td><td>300.154286</td><td>300.278571</td><td>296.651429</td><td>302.3</td><td>298.7</td><td>28.4</td><td>81.281429</td><td>14.41</td><td>18.071429</td><td>2.014286</td><td>28.328571</td><td>6.514286</td><td>33.9</td><td>24.4</td><td>1.1</td><td>1990-07-02</td></tr></tbody></table></div>"
      ],
      "text/plain": [
       "shape: (10, 25)\n",
       "┌──────┬──────┬────────────┬─────────────┬───┬─────────────┬─────────────┬────────────┬────────────┐\n",
       "│ city ┆ year ┆ weekofyear ┆ week_start_ ┆ … ┆ station_max ┆ station_min ┆ station_pr ┆ week       │\n",
       "│ ---  ┆ ---  ┆ ---        ┆ date        ┆   ┆ _temp_c     ┆ _temp_c     ┆ ecip_mm    ┆ ---        │\n",
       "│ str  ┆ i64  ┆ i64        ┆ ---         ┆   ┆ ---         ┆ ---         ┆ ---        ┆ date       │\n",
       "│      ┆      ┆            ┆ str         ┆   ┆ f64         ┆ f64         ┆ f64        ┆            │\n",
       "╞══════╪══════╪════════════╪═════════════╪═══╪═════════════╪═════════════╪════════════╪════════════╡\n",
       "│ sj   ┆ 1990 ┆ 18         ┆ 1990-04-30  ┆ … ┆ 29.4        ┆ 20.0        ┆ 16.0       ┆ 1990-04-30 │\n",
       "│ sj   ┆ 1990 ┆ 19         ┆ 1990-05-07  ┆ … ┆ 31.7        ┆ 22.2        ┆ 8.6        ┆ 1990-05-07 │\n",
       "│ sj   ┆ 1990 ┆ 20         ┆ 1990-05-14  ┆ … ┆ 32.2        ┆ 22.8        ┆ 41.4       ┆ 1990-05-14 │\n",
       "│ sj   ┆ 1990 ┆ 21         ┆ 1990-05-21  ┆ … ┆ 33.3        ┆ 23.3        ┆ 4.0        ┆ 1990-05-21 │\n",
       "│ …    ┆ …    ┆ …          ┆ …           ┆ … ┆ …           ┆ …           ┆ …          ┆ …          │\n",
       "│ sj   ┆ 1990 ┆ 24         ┆ 1990-06-11  ┆ … ┆ 32.2        ┆ 23.3        ┆ 29.7       ┆ 1990-06-11 │\n",
       "│ sj   ┆ 1990 ┆ 25         ┆ 1990-06-18  ┆ … ┆ 33.9        ┆ 22.8        ┆ 21.1       ┆ 1990-06-18 │\n",
       "│ sj   ┆ 1990 ┆ 26         ┆ 1990-06-25  ┆ … ┆ 33.9        ┆ 22.8        ┆ 21.1       ┆ 1990-06-25 │\n",
       "│ sj   ┆ 1990 ┆ 27         ┆ 1990-07-02  ┆ … ┆ 33.9        ┆ 24.4        ┆ 1.1        ┆ 1990-07-02 │\n",
       "└──────┴──────┴────────────┴─────────────┴───┴─────────────┴─────────────┴────────────┴────────────┘"
      ]
     },
     "execution_count": 62,
     "metadata": {},
     "output_type": "execute_result"
    }
   ],
   "source": [
    "from functools import partial\n",
    "four_digit_strtodate = partial(str_to_date, date_format = \"%Y-%m-%d\")\n",
    "\n",
    "training_features = training_features \\\n",
    "    .with_columns(pl.col(\"week_start_date\").apply(four_digit_strtodate, return_dtype=pl.Date).alias(\"week\"))\n",
    "    \n",
    "training_features.head(10)"
   ]
  },
  {
   "cell_type": "code",
   "execution_count": null,
   "metadata": {},
   "outputs": [],
   "source": []
  },
  {
   "cell_type": "code",
   "execution_count": null,
   "metadata": {},
   "outputs": [],
   "source": []
  },
  {
   "cell_type": "code",
   "execution_count": null,
   "metadata": {},
   "outputs": [],
   "source": []
  },
  {
   "cell_type": "code",
   "execution_count": 7,
   "metadata": {},
   "outputs": [
    {
     "name": "stdout",
     "output_type": "stream",
     "text": [
      "San Juan, PR with 936 rows\n",
      "Iquitos, Peru with 520 rows\n"
     ]
    }
   ],
   "source": [
    "print(f\"San Juan, PR with {len(training_features.filter(pl.col('city') == 'sj'))} rows\")\n",
    "print(f\"Iquitos, Peru with {len(training_features.filter(pl.col('city') == 'iq'))} rows\")"
   ]
  },
  {
   "cell_type": "code",
   "execution_count": 8,
   "metadata": {},
   "outputs": [
    {
     "data": {
      "text/html": [
       "<div><style>\n",
       ".dataframe > thead > tr > th,\n",
       ".dataframe > tbody > tr > td {\n",
       "  text-align: right;\n",
       "}\n",
       "</style>\n",
       "<small>shape: (936, 4)</small><table border=\"1\" class=\"dataframe\"><thead><tr><th>city</th><th>year</th><th>weekofyear</th><th>total_cases</th></tr><tr><td>str</td><td>i64</td><td>i64</td><td>i64</td></tr></thead><tbody><tr><td>&quot;sj&quot;</td><td>1990</td><td>18</td><td>4</td></tr><tr><td>&quot;sj&quot;</td><td>1990</td><td>19</td><td>5</td></tr><tr><td>&quot;sj&quot;</td><td>1990</td><td>20</td><td>4</td></tr><tr><td>&quot;sj&quot;</td><td>1990</td><td>21</td><td>3</td></tr><tr><td>&quot;sj&quot;</td><td>1990</td><td>22</td><td>6</td></tr><tr><td>&quot;sj&quot;</td><td>1990</td><td>23</td><td>2</td></tr><tr><td>&quot;sj&quot;</td><td>1990</td><td>24</td><td>4</td></tr><tr><td>&quot;sj&quot;</td><td>1990</td><td>25</td><td>5</td></tr><tr><td>&quot;sj&quot;</td><td>1990</td><td>26</td><td>10</td></tr><tr><td>&quot;sj&quot;</td><td>1990</td><td>27</td><td>6</td></tr><tr><td>&quot;sj&quot;</td><td>1990</td><td>28</td><td>8</td></tr><tr><td>&quot;sj&quot;</td><td>1990</td><td>29</td><td>2</td></tr><tr><td>&hellip;</td><td>&hellip;</td><td>&hellip;</td><td>&hellip;</td></tr><tr><td>&quot;sj&quot;</td><td>2008</td><td>6</td><td>2</td></tr><tr><td>&quot;sj&quot;</td><td>2008</td><td>7</td><td>6</td></tr><tr><td>&quot;sj&quot;</td><td>2008</td><td>8</td><td>8</td></tr><tr><td>&quot;sj&quot;</td><td>2008</td><td>9</td><td>5</td></tr><tr><td>&quot;sj&quot;</td><td>2008</td><td>10</td><td>1</td></tr><tr><td>&quot;sj&quot;</td><td>2008</td><td>11</td><td>2</td></tr><tr><td>&quot;sj&quot;</td><td>2008</td><td>12</td><td>3</td></tr><tr><td>&quot;sj&quot;</td><td>2008</td><td>13</td><td>4</td></tr><tr><td>&quot;sj&quot;</td><td>2008</td><td>14</td><td>3</td></tr><tr><td>&quot;sj&quot;</td><td>2008</td><td>15</td><td>1</td></tr><tr><td>&quot;sj&quot;</td><td>2008</td><td>16</td><td>3</td></tr><tr><td>&quot;sj&quot;</td><td>2008</td><td>17</td><td>5</td></tr></tbody></table></div>"
      ],
      "text/plain": [
       "shape: (936, 4)\n",
       "┌──────┬──────┬────────────┬─────────────┐\n",
       "│ city ┆ year ┆ weekofyear ┆ total_cases │\n",
       "│ ---  ┆ ---  ┆ ---        ┆ ---         │\n",
       "│ str  ┆ i64  ┆ i64        ┆ i64         │\n",
       "╞══════╪══════╪════════════╪═════════════╡\n",
       "│ sj   ┆ 1990 ┆ 18         ┆ 4           │\n",
       "│ sj   ┆ 1990 ┆ 19         ┆ 5           │\n",
       "│ sj   ┆ 1990 ┆ 20         ┆ 4           │\n",
       "│ sj   ┆ 1990 ┆ 21         ┆ 3           │\n",
       "│ …    ┆ …    ┆ …          ┆ …           │\n",
       "│ sj   ┆ 2008 ┆ 14         ┆ 3           │\n",
       "│ sj   ┆ 2008 ┆ 15         ┆ 1           │\n",
       "│ sj   ┆ 2008 ┆ 16         ┆ 3           │\n",
       "│ sj   ┆ 2008 ┆ 17         ┆ 5           │\n",
       "└──────┴──────┴────────────┴─────────────┘"
      ]
     },
     "execution_count": 8,
     "metadata": {},
     "output_type": "execute_result"
    }
   ],
   "source": [
    "training_labels.filter(pl.col('city') == 'sj')\n"
   ]
  },
  {
   "cell_type": "code",
   "execution_count": null,
   "metadata": {},
   "outputs": [],
   "source": []
  },
  {
   "cell_type": "code",
   "execution_count": 18,
   "metadata": {},
   "outputs": [
    {
     "data": {
      "application/vnd.plotly.v1+json": {
       "config": {
        "plotlyServerURL": "https://plot.ly"
       },
       "data": [
        {
         "hovertemplate": "year=2000<br>weekofyear=%{x}<br>Dengue Cases By Year in Iquitos, Perú=%{y}<extra></extra>",
         "legendgroup": "2000",
         "line": {
          "color": "#636efa",
          "dash": "solid"
         },
         "marker": {
          "symbol": "circle"
         },
         "mode": "lines",
         "name": "2000",
         "orientation": "v",
         "showlegend": true,
         "type": "scatter",
         "x": [
          26,
          27,
          28,
          29,
          30,
          31,
          32,
          33,
          34,
          35,
          36,
          37,
          38,
          39,
          40,
          41,
          42,
          43,
          44,
          45,
          46,
          47,
          48,
          49,
          50,
          51
         ],
         "xaxis": "x",
         "y": [
          0,
          0,
          0,
          0,
          0,
          0,
          0,
          0,
          0,
          0,
          1,
          0,
          0,
          0,
          0,
          1,
          1,
          0,
          0,
          0,
          0,
          0,
          0,
          0,
          1,
          0
         ],
         "yaxis": "y"
        },
        {
         "hovertemplate": "year=2001<br>weekofyear=%{x}<br>Dengue Cases By Year in Iquitos, Perú=%{y}<extra></extra>",
         "legendgroup": "2001",
         "line": {
          "color": "#EF553B",
          "dash": "solid"
         },
         "marker": {
          "symbol": "circle"
         },
         "mode": "lines",
         "name": "2001",
         "orientation": "v",
         "showlegend": true,
         "type": "scatter",
         "x": [
          1,
          2,
          3,
          4,
          5,
          6,
          7,
          8,
          9,
          10,
          11,
          12,
          13,
          14,
          15,
          16,
          17,
          18,
          19,
          20,
          21,
          22,
          23,
          24,
          25,
          26,
          27,
          28,
          29,
          30,
          31,
          32,
          33,
          34,
          35,
          36,
          37,
          38,
          39,
          40,
          41,
          42,
          43,
          44,
          45,
          46,
          47,
          48,
          49,
          50,
          51,
          52
         ],
         "xaxis": "x",
         "y": [
          0,
          0,
          0,
          0,
          0,
          0,
          0,
          0,
          0,
          0,
          0,
          0,
          0,
          0,
          0,
          1,
          0,
          0,
          0,
          0,
          1,
          1,
          0,
          0,
          1,
          0,
          0,
          0,
          0,
          0,
          0,
          0,
          0,
          0,
          0,
          0,
          0,
          0,
          0,
          0,
          0,
          0,
          0,
          0,
          0,
          0,
          1,
          1,
          1,
          2,
          4,
          1
         ],
         "yaxis": "y"
        },
        {
         "hovertemplate": "year=2002<br>weekofyear=%{x}<br>Dengue Cases By Year in Iquitos, Perú=%{y}<extra></extra>",
         "legendgroup": "2002",
         "line": {
          "color": "#00cc96",
          "dash": "solid"
         },
         "marker": {
          "symbol": "circle"
         },
         "mode": "lines",
         "name": "2002",
         "orientation": "v",
         "showlegend": true,
         "type": "scatter",
         "x": [
          1,
          2,
          3,
          4,
          5,
          6,
          7,
          8,
          9,
          10,
          11,
          12,
          13,
          14,
          15,
          16,
          17,
          18,
          19,
          20,
          21,
          22,
          23,
          24,
          25,
          26,
          27,
          28,
          29,
          30,
          31,
          32,
          33,
          34,
          35,
          36,
          37,
          38,
          39,
          40,
          41,
          42,
          43,
          44,
          45,
          46,
          47,
          48,
          49,
          50,
          51,
          52
         ],
         "xaxis": "x",
         "y": [
          4,
          11,
          16,
          23,
          12,
          14,
          18,
          8,
          7,
          10,
          7,
          10,
          5,
          11,
          8,
          18,
          13,
          9,
          22,
          10,
          5,
          13,
          2,
          11,
          11,
          3,
          7,
          7,
          4,
          5,
          6,
          7,
          7,
          4,
          9,
          17,
          8,
          22,
          18,
          21,
          16,
          31,
          25,
          28,
          26,
          18,
          27,
          11,
          38,
          29,
          21,
          11
         ],
         "yaxis": "y"
        },
        {
         "hovertemplate": "year=2003<br>weekofyear=%{x}<br>Dengue Cases By Year in Iquitos, Perú=%{y}<extra></extra>",
         "legendgroup": "2003",
         "line": {
          "color": "#ab63fa",
          "dash": "solid"
         },
         "marker": {
          "symbol": "circle"
         },
         "mode": "lines",
         "name": "2003",
         "orientation": "v",
         "showlegend": true,
         "type": "scatter",
         "x": [
          1,
          2,
          3,
          4,
          5,
          6,
          7,
          8,
          9,
          10,
          11,
          12,
          13,
          14,
          15,
          16,
          17,
          18,
          19,
          20,
          21,
          22,
          23,
          24,
          25,
          26,
          27,
          28,
          29,
          30,
          31,
          32,
          33,
          34,
          35,
          36,
          37,
          38,
          39,
          40,
          41,
          42,
          43,
          44,
          45,
          46,
          47,
          48,
          49,
          50,
          51,
          52
         ],
         "xaxis": "x",
         "y": [
          10,
          5,
          6,
          2,
          1,
          2,
          2,
          3,
          5,
          1,
          4,
          2,
          4,
          0,
          0,
          0,
          0,
          1,
          1,
          1,
          1,
          1,
          2,
          3,
          4,
          6,
          2,
          2,
          5,
          1,
          1,
          0,
          0,
          0,
          0,
          2,
          0,
          3,
          0,
          0,
          0,
          2,
          2,
          3,
          3,
          3,
          1,
          2,
          3,
          6,
          5,
          1
         ],
         "yaxis": "y"
        },
        {
         "hovertemplate": "year=2004<br>weekofyear=%{x}<br>Dengue Cases By Year in Iquitos, Perú=%{y}<extra></extra>",
         "legendgroup": "2004",
         "line": {
          "color": "#FFA15A",
          "dash": "solid"
         },
         "marker": {
          "symbol": "circle"
         },
         "mode": "lines",
         "name": "2004",
         "orientation": "v",
         "showlegend": true,
         "type": "scatter",
         "x": [
          1,
          2,
          3,
          4,
          5,
          6,
          7,
          8,
          9,
          10,
          11,
          12,
          13,
          14,
          15,
          16,
          17,
          18,
          19,
          20,
          21,
          22,
          23,
          24,
          25,
          26,
          27,
          28,
          29,
          30,
          31,
          32,
          33,
          34,
          35,
          36,
          37,
          38,
          39,
          40,
          41,
          42,
          43,
          44,
          45,
          46,
          47,
          48,
          49,
          50,
          51,
          52
         ],
         "xaxis": "x",
         "y": [
          4,
          5,
          8,
          5,
          2,
          3,
          3,
          1,
          6,
          4,
          1,
          2,
          3,
          1,
          8,
          4,
          6,
          7,
          5,
          8,
          6,
          5,
          6,
          6,
          13,
          2,
          10,
          3,
          12,
          7,
          6,
          5,
          6,
          6,
          6,
          8,
          6,
          9,
          12,
          19,
          8,
          16,
          21,
          6,
          22,
          37,
          33,
          18,
          83,
          116,
          32,
          7
         ],
         "yaxis": "y"
        },
        {
         "hovertemplate": "year=2005<br>weekofyear=%{x}<br>Dengue Cases By Year in Iquitos, Perú=%{y}<extra></extra>",
         "legendgroup": "2005",
         "line": {
          "color": "#19d3f3",
          "dash": "solid"
         },
         "marker": {
          "symbol": "circle"
         },
         "mode": "lines",
         "name": "2005",
         "orientation": "v",
         "showlegend": true,
         "type": "scatter",
         "x": [
          53,
          1,
          2,
          3,
          4,
          5,
          6,
          7,
          8,
          9,
          10,
          11,
          12,
          13,
          14,
          15,
          16,
          17,
          18,
          19,
          20,
          21,
          22,
          23,
          24,
          25,
          26,
          27,
          28,
          29,
          30,
          31,
          32,
          33,
          34,
          35,
          36,
          37,
          38,
          39,
          40,
          41,
          42,
          43,
          44,
          45,
          46,
          47,
          48,
          49,
          50,
          51
         ],
         "xaxis": "x",
         "y": [
          9,
          10,
          5,
          8,
          7,
          8,
          11,
          6,
          7,
          7,
          14,
          7,
          9,
          13,
          16,
          7,
          9,
          2,
          13,
          8,
          3,
          5,
          4,
          8,
          2,
          3,
          5,
          7,
          3,
          5,
          6,
          5,
          5,
          4,
          0,
          0,
          0,
          0,
          0,
          2,
          4,
          4,
          3,
          3,
          5,
          6,
          14,
          3,
          7,
          11,
          2,
          6
         ],
         "yaxis": "y"
        },
        {
         "hovertemplate": "year=2006<br>weekofyear=%{x}<br>Dengue Cases By Year in Iquitos, Perú=%{y}<extra></extra>",
         "legendgroup": "2006",
         "line": {
          "color": "#FF6692",
          "dash": "solid"
         },
         "marker": {
          "symbol": "circle"
         },
         "mode": "lines",
         "name": "2006",
         "orientation": "v",
         "showlegend": true,
         "type": "scatter",
         "x": [
          52,
          1,
          2,
          3,
          4,
          5,
          6,
          7,
          8,
          9,
          10,
          11,
          12,
          13,
          14,
          15,
          16,
          17,
          18,
          19,
          20,
          21,
          22,
          23,
          24,
          25,
          26,
          27,
          28,
          29,
          30,
          31,
          32,
          33,
          34,
          35,
          36,
          37,
          38,
          39,
          40,
          41,
          42,
          43,
          44,
          45,
          46,
          47,
          48,
          49,
          50,
          51
         ],
         "xaxis": "x",
         "y": [
          8,
          25,
          21,
          10,
          28,
          39,
          20,
          24,
          28,
          26,
          8,
          9,
          12,
          18,
          9,
          9,
          6,
          6,
          8,
          5,
          7,
          6,
          5,
          3,
          1,
          0,
          1,
          2,
          3,
          2,
          2,
          2,
          2,
          2,
          4,
          0,
          6,
          3,
          2,
          6,
          2,
          7,
          4,
          6,
          6,
          2,
          13,
          10,
          5,
          2,
          0,
          1
         ],
         "yaxis": "y"
        },
        {
         "hovertemplate": "year=2007<br>weekofyear=%{x}<br>Dengue Cases By Year in Iquitos, Perú=%{y}<extra></extra>",
         "legendgroup": "2007",
         "line": {
          "color": "#B6E880",
          "dash": "solid"
         },
         "marker": {
          "symbol": "circle"
         },
         "mode": "lines",
         "name": "2007",
         "orientation": "v",
         "showlegend": true,
         "type": "scatter",
         "x": [
          1,
          2,
          3,
          4,
          5,
          6,
          7,
          8,
          9,
          10,
          11,
          12,
          13,
          14,
          15,
          16,
          17,
          18,
          19,
          20,
          21,
          22,
          23,
          24,
          25,
          26,
          27,
          28,
          29,
          30,
          31,
          32,
          33,
          34,
          35,
          36,
          37,
          38,
          39,
          40,
          41,
          42,
          43,
          44,
          45,
          46,
          47,
          48,
          49,
          50,
          51,
          52
         ],
         "xaxis": "x",
         "y": [
          0,
          14,
          6,
          10,
          5,
          12,
          9,
          5,
          11,
          2,
          6,
          7,
          6,
          5,
          9,
          5,
          8,
          3,
          4,
          11,
          5,
          8,
          4,
          3,
          1,
          2,
          3,
          4,
          1,
          8,
          5,
          3,
          2,
          7,
          1,
          6,
          7,
          5,
          2,
          6,
          11,
          6,
          3,
          11,
          11,
          5,
          4,
          9,
          23,
          28,
          26,
          7
         ],
         "yaxis": "y"
        },
        {
         "hovertemplate": "year=2008<br>weekofyear=%{x}<br>Dengue Cases By Year in Iquitos, Perú=%{y}<extra></extra>",
         "legendgroup": "2008",
         "line": {
          "color": "#FF97FF",
          "dash": "solid"
         },
         "marker": {
          "symbol": "circle"
         },
         "mode": "lines",
         "name": "2008",
         "orientation": "v",
         "showlegend": true,
         "type": "scatter",
         "x": [
          1,
          2,
          3,
          4,
          5,
          6,
          7,
          8,
          9,
          10,
          11,
          12,
          13,
          14,
          15,
          16,
          17,
          18,
          19,
          20,
          21,
          22,
          23,
          24,
          25,
          26,
          27,
          28,
          29,
          30,
          31,
          32,
          33,
          34,
          35,
          36,
          37,
          38,
          39,
          40,
          41,
          42,
          43,
          44,
          45,
          46,
          47,
          48,
          49,
          50,
          51,
          52
         ],
         "xaxis": "x",
         "y": [
          29,
          58,
          26,
          38,
          35,
          37,
          20,
          29,
          25,
          23,
          9,
          3,
          6,
          6,
          3,
          1,
          3,
          1,
          1,
          0,
          2,
          1,
          1,
          0,
          0,
          1,
          0,
          3,
          3,
          1,
          5,
          2,
          5,
          5,
          5,
          9,
          17,
          19,
          25,
          45,
          34,
          63,
          44,
          50,
          35,
          16,
          16,
          13,
          9,
          15,
          4,
          0
         ],
         "yaxis": "y"
        },
        {
         "hovertemplate": "year=2009<br>weekofyear=%{x}<br>Dengue Cases By Year in Iquitos, Perú=%{y}<extra></extra>",
         "legendgroup": "2009",
         "line": {
          "color": "#FECB52",
          "dash": "solid"
         },
         "marker": {
          "symbol": "circle"
         },
         "mode": "lines",
         "name": "2009",
         "orientation": "v",
         "showlegend": true,
         "type": "scatter",
         "x": [
          1,
          2,
          3,
          4,
          5,
          6,
          7,
          8,
          9,
          10,
          11,
          12,
          13,
          14,
          15,
          16,
          17,
          18,
          19,
          20,
          21,
          22,
          23,
          24,
          25,
          26,
          27,
          28,
          29,
          30,
          31,
          32,
          33,
          34,
          35,
          36,
          37,
          38,
          39,
          40,
          41,
          42,
          43,
          44,
          45,
          46,
          47,
          48,
          49,
          50,
          51,
          52
         ],
         "xaxis": "x",
         "y": [
          1,
          10,
          11,
          29,
          35,
          30,
          20,
          21,
          12,
          9,
          11,
          9,
          5,
          11,
          3,
          5,
          5,
          4,
          4,
          1,
          0,
          2,
          3,
          3,
          5,
          2,
          1,
          2,
          0,
          0,
          3,
          5,
          5,
          7,
          5,
          2,
          2,
          2,
          0,
          2,
          1,
          1,
          2,
          2,
          3,
          9,
          5,
          5,
          4,
          4,
          1,
          0
         ],
         "yaxis": "y"
        },
        {
         "hovertemplate": "year=2010<br>weekofyear=%{x}<br>Dengue Cases By Year in Iquitos, Perú=%{y}<extra></extra>",
         "legendgroup": "2010",
         "line": {
          "color": "#636efa",
          "dash": "solid"
         },
         "marker": {
          "symbol": "circle"
         },
         "mode": "lines",
         "name": "2010",
         "orientation": "v",
         "showlegend": true,
         "type": "scatter",
         "x": [
          53,
          1,
          2,
          3,
          4,
          5,
          6,
          7,
          8,
          9,
          10,
          11,
          12,
          13,
          14,
          15,
          16,
          17,
          18,
          19,
          20,
          21,
          22,
          23,
          24,
          25
         ],
         "xaxis": "x",
         "y": [
          0,
          10,
          9,
          17,
          16,
          11,
          12,
          19,
          15,
          12,
          12,
          16,
          9,
          4,
          9,
          6,
          8,
          4,
          2,
          7,
          6,
          5,
          8,
          1,
          1,
          4
         ],
         "yaxis": "y"
        }
       ],
       "layout": {
        "legend": {
         "title": {
          "text": "year"
         },
         "tracegroupgap": 0
        },
        "template": {
         "data": {
          "bar": [
           {
            "error_x": {
             "color": "#2a3f5f"
            },
            "error_y": {
             "color": "#2a3f5f"
            },
            "marker": {
             "line": {
              "color": "#E5ECF6",
              "width": 0.5
             },
             "pattern": {
              "fillmode": "overlay",
              "size": 10,
              "solidity": 0.2
             }
            },
            "type": "bar"
           }
          ],
          "barpolar": [
           {
            "marker": {
             "line": {
              "color": "#E5ECF6",
              "width": 0.5
             },
             "pattern": {
              "fillmode": "overlay",
              "size": 10,
              "solidity": 0.2
             }
            },
            "type": "barpolar"
           }
          ],
          "carpet": [
           {
            "aaxis": {
             "endlinecolor": "#2a3f5f",
             "gridcolor": "white",
             "linecolor": "white",
             "minorgridcolor": "white",
             "startlinecolor": "#2a3f5f"
            },
            "baxis": {
             "endlinecolor": "#2a3f5f",
             "gridcolor": "white",
             "linecolor": "white",
             "minorgridcolor": "white",
             "startlinecolor": "#2a3f5f"
            },
            "type": "carpet"
           }
          ],
          "choropleth": [
           {
            "colorbar": {
             "outlinewidth": 0,
             "ticks": ""
            },
            "type": "choropleth"
           }
          ],
          "contour": [
           {
            "colorbar": {
             "outlinewidth": 0,
             "ticks": ""
            },
            "colorscale": [
             [
              0,
              "#0d0887"
             ],
             [
              0.1111111111111111,
              "#46039f"
             ],
             [
              0.2222222222222222,
              "#7201a8"
             ],
             [
              0.3333333333333333,
              "#9c179e"
             ],
             [
              0.4444444444444444,
              "#bd3786"
             ],
             [
              0.5555555555555556,
              "#d8576b"
             ],
             [
              0.6666666666666666,
              "#ed7953"
             ],
             [
              0.7777777777777778,
              "#fb9f3a"
             ],
             [
              0.8888888888888888,
              "#fdca26"
             ],
             [
              1,
              "#f0f921"
             ]
            ],
            "type": "contour"
           }
          ],
          "contourcarpet": [
           {
            "colorbar": {
             "outlinewidth": 0,
             "ticks": ""
            },
            "type": "contourcarpet"
           }
          ],
          "heatmap": [
           {
            "colorbar": {
             "outlinewidth": 0,
             "ticks": ""
            },
            "colorscale": [
             [
              0,
              "#0d0887"
             ],
             [
              0.1111111111111111,
              "#46039f"
             ],
             [
              0.2222222222222222,
              "#7201a8"
             ],
             [
              0.3333333333333333,
              "#9c179e"
             ],
             [
              0.4444444444444444,
              "#bd3786"
             ],
             [
              0.5555555555555556,
              "#d8576b"
             ],
             [
              0.6666666666666666,
              "#ed7953"
             ],
             [
              0.7777777777777778,
              "#fb9f3a"
             ],
             [
              0.8888888888888888,
              "#fdca26"
             ],
             [
              1,
              "#f0f921"
             ]
            ],
            "type": "heatmap"
           }
          ],
          "heatmapgl": [
           {
            "colorbar": {
             "outlinewidth": 0,
             "ticks": ""
            },
            "colorscale": [
             [
              0,
              "#0d0887"
             ],
             [
              0.1111111111111111,
              "#46039f"
             ],
             [
              0.2222222222222222,
              "#7201a8"
             ],
             [
              0.3333333333333333,
              "#9c179e"
             ],
             [
              0.4444444444444444,
              "#bd3786"
             ],
             [
              0.5555555555555556,
              "#d8576b"
             ],
             [
              0.6666666666666666,
              "#ed7953"
             ],
             [
              0.7777777777777778,
              "#fb9f3a"
             ],
             [
              0.8888888888888888,
              "#fdca26"
             ],
             [
              1,
              "#f0f921"
             ]
            ],
            "type": "heatmapgl"
           }
          ],
          "histogram": [
           {
            "marker": {
             "pattern": {
              "fillmode": "overlay",
              "size": 10,
              "solidity": 0.2
             }
            },
            "type": "histogram"
           }
          ],
          "histogram2d": [
           {
            "colorbar": {
             "outlinewidth": 0,
             "ticks": ""
            },
            "colorscale": [
             [
              0,
              "#0d0887"
             ],
             [
              0.1111111111111111,
              "#46039f"
             ],
             [
              0.2222222222222222,
              "#7201a8"
             ],
             [
              0.3333333333333333,
              "#9c179e"
             ],
             [
              0.4444444444444444,
              "#bd3786"
             ],
             [
              0.5555555555555556,
              "#d8576b"
             ],
             [
              0.6666666666666666,
              "#ed7953"
             ],
             [
              0.7777777777777778,
              "#fb9f3a"
             ],
             [
              0.8888888888888888,
              "#fdca26"
             ],
             [
              1,
              "#f0f921"
             ]
            ],
            "type": "histogram2d"
           }
          ],
          "histogram2dcontour": [
           {
            "colorbar": {
             "outlinewidth": 0,
             "ticks": ""
            },
            "colorscale": [
             [
              0,
              "#0d0887"
             ],
             [
              0.1111111111111111,
              "#46039f"
             ],
             [
              0.2222222222222222,
              "#7201a8"
             ],
             [
              0.3333333333333333,
              "#9c179e"
             ],
             [
              0.4444444444444444,
              "#bd3786"
             ],
             [
              0.5555555555555556,
              "#d8576b"
             ],
             [
              0.6666666666666666,
              "#ed7953"
             ],
             [
              0.7777777777777778,
              "#fb9f3a"
             ],
             [
              0.8888888888888888,
              "#fdca26"
             ],
             [
              1,
              "#f0f921"
             ]
            ],
            "type": "histogram2dcontour"
           }
          ],
          "mesh3d": [
           {
            "colorbar": {
             "outlinewidth": 0,
             "ticks": ""
            },
            "type": "mesh3d"
           }
          ],
          "parcoords": [
           {
            "line": {
             "colorbar": {
              "outlinewidth": 0,
              "ticks": ""
             }
            },
            "type": "parcoords"
           }
          ],
          "pie": [
           {
            "automargin": true,
            "type": "pie"
           }
          ],
          "scatter": [
           {
            "fillpattern": {
             "fillmode": "overlay",
             "size": 10,
             "solidity": 0.2
            },
            "type": "scatter"
           }
          ],
          "scatter3d": [
           {
            "line": {
             "colorbar": {
              "outlinewidth": 0,
              "ticks": ""
             }
            },
            "marker": {
             "colorbar": {
              "outlinewidth": 0,
              "ticks": ""
             }
            },
            "type": "scatter3d"
           }
          ],
          "scattercarpet": [
           {
            "marker": {
             "colorbar": {
              "outlinewidth": 0,
              "ticks": ""
             }
            },
            "type": "scattercarpet"
           }
          ],
          "scattergeo": [
           {
            "marker": {
             "colorbar": {
              "outlinewidth": 0,
              "ticks": ""
             }
            },
            "type": "scattergeo"
           }
          ],
          "scattergl": [
           {
            "marker": {
             "colorbar": {
              "outlinewidth": 0,
              "ticks": ""
             }
            },
            "type": "scattergl"
           }
          ],
          "scattermapbox": [
           {
            "marker": {
             "colorbar": {
              "outlinewidth": 0,
              "ticks": ""
             }
            },
            "type": "scattermapbox"
           }
          ],
          "scatterpolar": [
           {
            "marker": {
             "colorbar": {
              "outlinewidth": 0,
              "ticks": ""
             }
            },
            "type": "scatterpolar"
           }
          ],
          "scatterpolargl": [
           {
            "marker": {
             "colorbar": {
              "outlinewidth": 0,
              "ticks": ""
             }
            },
            "type": "scatterpolargl"
           }
          ],
          "scatterternary": [
           {
            "marker": {
             "colorbar": {
              "outlinewidth": 0,
              "ticks": ""
             }
            },
            "type": "scatterternary"
           }
          ],
          "surface": [
           {
            "colorbar": {
             "outlinewidth": 0,
             "ticks": ""
            },
            "colorscale": [
             [
              0,
              "#0d0887"
             ],
             [
              0.1111111111111111,
              "#46039f"
             ],
             [
              0.2222222222222222,
              "#7201a8"
             ],
             [
              0.3333333333333333,
              "#9c179e"
             ],
             [
              0.4444444444444444,
              "#bd3786"
             ],
             [
              0.5555555555555556,
              "#d8576b"
             ],
             [
              0.6666666666666666,
              "#ed7953"
             ],
             [
              0.7777777777777778,
              "#fb9f3a"
             ],
             [
              0.8888888888888888,
              "#fdca26"
             ],
             [
              1,
              "#f0f921"
             ]
            ],
            "type": "surface"
           }
          ],
          "table": [
           {
            "cells": {
             "fill": {
              "color": "#EBF0F8"
             },
             "line": {
              "color": "white"
             }
            },
            "header": {
             "fill": {
              "color": "#C8D4E3"
             },
             "line": {
              "color": "white"
             }
            },
            "type": "table"
           }
          ]
         },
         "layout": {
          "annotationdefaults": {
           "arrowcolor": "#2a3f5f",
           "arrowhead": 0,
           "arrowwidth": 1
          },
          "autotypenumbers": "strict",
          "coloraxis": {
           "colorbar": {
            "outlinewidth": 0,
            "ticks": ""
           }
          },
          "colorscale": {
           "diverging": [
            [
             0,
             "#8e0152"
            ],
            [
             0.1,
             "#c51b7d"
            ],
            [
             0.2,
             "#de77ae"
            ],
            [
             0.3,
             "#f1b6da"
            ],
            [
             0.4,
             "#fde0ef"
            ],
            [
             0.5,
             "#f7f7f7"
            ],
            [
             0.6,
             "#e6f5d0"
            ],
            [
             0.7,
             "#b8e186"
            ],
            [
             0.8,
             "#7fbc41"
            ],
            [
             0.9,
             "#4d9221"
            ],
            [
             1,
             "#276419"
            ]
           ],
           "sequential": [
            [
             0,
             "#0d0887"
            ],
            [
             0.1111111111111111,
             "#46039f"
            ],
            [
             0.2222222222222222,
             "#7201a8"
            ],
            [
             0.3333333333333333,
             "#9c179e"
            ],
            [
             0.4444444444444444,
             "#bd3786"
            ],
            [
             0.5555555555555556,
             "#d8576b"
            ],
            [
             0.6666666666666666,
             "#ed7953"
            ],
            [
             0.7777777777777778,
             "#fb9f3a"
            ],
            [
             0.8888888888888888,
             "#fdca26"
            ],
            [
             1,
             "#f0f921"
            ]
           ],
           "sequentialminus": [
            [
             0,
             "#0d0887"
            ],
            [
             0.1111111111111111,
             "#46039f"
            ],
            [
             0.2222222222222222,
             "#7201a8"
            ],
            [
             0.3333333333333333,
             "#9c179e"
            ],
            [
             0.4444444444444444,
             "#bd3786"
            ],
            [
             0.5555555555555556,
             "#d8576b"
            ],
            [
             0.6666666666666666,
             "#ed7953"
            ],
            [
             0.7777777777777778,
             "#fb9f3a"
            ],
            [
             0.8888888888888888,
             "#fdca26"
            ],
            [
             1,
             "#f0f921"
            ]
           ]
          },
          "colorway": [
           "#636efa",
           "#EF553B",
           "#00cc96",
           "#ab63fa",
           "#FFA15A",
           "#19d3f3",
           "#FF6692",
           "#B6E880",
           "#FF97FF",
           "#FECB52"
          ],
          "font": {
           "color": "#2a3f5f"
          },
          "geo": {
           "bgcolor": "white",
           "lakecolor": "white",
           "landcolor": "#E5ECF6",
           "showlakes": true,
           "showland": true,
           "subunitcolor": "white"
          },
          "hoverlabel": {
           "align": "left"
          },
          "hovermode": "closest",
          "mapbox": {
           "style": "light"
          },
          "paper_bgcolor": "white",
          "plot_bgcolor": "#E5ECF6",
          "polar": {
           "angularaxis": {
            "gridcolor": "white",
            "linecolor": "white",
            "ticks": ""
           },
           "bgcolor": "#E5ECF6",
           "radialaxis": {
            "gridcolor": "white",
            "linecolor": "white",
            "ticks": ""
           }
          },
          "scene": {
           "xaxis": {
            "backgroundcolor": "#E5ECF6",
            "gridcolor": "white",
            "gridwidth": 2,
            "linecolor": "white",
            "showbackground": true,
            "ticks": "",
            "zerolinecolor": "white"
           },
           "yaxis": {
            "backgroundcolor": "#E5ECF6",
            "gridcolor": "white",
            "gridwidth": 2,
            "linecolor": "white",
            "showbackground": true,
            "ticks": "",
            "zerolinecolor": "white"
           },
           "zaxis": {
            "backgroundcolor": "#E5ECF6",
            "gridcolor": "white",
            "gridwidth": 2,
            "linecolor": "white",
            "showbackground": true,
            "ticks": "",
            "zerolinecolor": "white"
           }
          },
          "shapedefaults": {
           "line": {
            "color": "#2a3f5f"
           }
          },
          "ternary": {
           "aaxis": {
            "gridcolor": "white",
            "linecolor": "white",
            "ticks": ""
           },
           "baxis": {
            "gridcolor": "white",
            "linecolor": "white",
            "ticks": ""
           },
           "bgcolor": "#E5ECF6",
           "caxis": {
            "gridcolor": "white",
            "linecolor": "white",
            "ticks": ""
           }
          },
          "title": {
           "x": 0.05
          },
          "xaxis": {
           "automargin": true,
           "gridcolor": "white",
           "linecolor": "white",
           "ticks": "",
           "title": {
            "standoff": 15
           },
           "zerolinecolor": "white",
           "zerolinewidth": 2
          },
          "yaxis": {
           "automargin": true,
           "gridcolor": "white",
           "linecolor": "white",
           "ticks": "",
           "title": {
            "standoff": 15
           },
           "zerolinecolor": "white",
           "zerolinewidth": 2
          }
         }
        },
        "title": {
         "text": "Line Graph: Target Variable by Week of Year"
        },
        "xaxis": {
         "anchor": "y",
         "domain": [
          0,
          1
         ],
         "title": {
          "text": "weekofyear"
         }
        },
        "yaxis": {
         "anchor": "x",
         "domain": [
          0,
          1
         ],
         "title": {
          "text": "Dengue Cases By Year in Iquitos, Perú"
         }
        }
       }
      }
     },
     "metadata": {},
     "output_type": "display_data"
    }
   ],
   "source": [
    "# Import necessary modules\n",
    "# Assume df is your DataFrame, which has been created using Polars.\n",
    "\n",
    "# First, we need to convert the Polars DataFrame to Pandas DataFrame \n",
    "# as Plotly works with Pandas DataFrame\n",
    "city = 'iq'\n",
    "city_dengue = training_labels.filter(pl.col('city') == city)\n",
    "df_pandas = city_dengue.to_pandas()\n",
    "\n",
    "# Now, we can use Plotly Express to create the line graph\n",
    "fig = px.line(df_pandas, x=\"weekofyear\", y=\"total_cases\", color='year', \n",
    "              title='Line Graph: Target Variable by Week of Year',\n",
    "              labels={'week_of_year': 'Week of the Year', \n",
    "                      'total_cases': f'Dengue Cases By Year in {\"San Juan, PR\" if city == \"sj\" else \"Iquitos, Perú\"}'})\n",
    "\n",
    "# Display the figure\n",
    "fig.show()\n"
   ]
  },
  {
   "cell_type": "code",
   "execution_count": 23,
   "metadata": {},
   "outputs": [
    {
     "data": {
      "text/html": [
       "<div>\n",
       "<style scoped>\n",
       "    .dataframe tbody tr th:only-of-type {\n",
       "        vertical-align: middle;\n",
       "    }\n",
       "\n",
       "    .dataframe tbody tr th {\n",
       "        vertical-align: top;\n",
       "    }\n",
       "\n",
       "    .dataframe thead th {\n",
       "        text-align: right;\n",
       "    }\n",
       "</style>\n",
       "<table border=\"1\" class=\"dataframe\">\n",
       "  <thead>\n",
       "    <tr style=\"text-align: right;\">\n",
       "      <th></th>\n",
       "      <th>city</th>\n",
       "      <th>year</th>\n",
       "      <th>weekofyear</th>\n",
       "      <th>total_cases</th>\n",
       "      <th>date</th>\n",
       "    </tr>\n",
       "  </thead>\n",
       "  <tbody>\n",
       "    <tr>\n",
       "      <th>0</th>\n",
       "      <td>iq</td>\n",
       "      <td>2000</td>\n",
       "      <td>49</td>\n",
       "      <td>0</td>\n",
       "      <td>2000-12-04</td>\n",
       "    </tr>\n",
       "    <tr>\n",
       "      <th>1</th>\n",
       "      <td>iq</td>\n",
       "      <td>2000</td>\n",
       "      <td>50</td>\n",
       "      <td>1</td>\n",
       "      <td>2000-12-11</td>\n",
       "    </tr>\n",
       "    <tr>\n",
       "      <th>2</th>\n",
       "      <td>iq</td>\n",
       "      <td>2001</td>\n",
       "      <td>2</td>\n",
       "      <td>0</td>\n",
       "      <td>2001-01-08</td>\n",
       "    </tr>\n",
       "    <tr>\n",
       "      <th>3</th>\n",
       "      <td>iq</td>\n",
       "      <td>2001</td>\n",
       "      <td>5</td>\n",
       "      <td>0</td>\n",
       "      <td>2001-01-29</td>\n",
       "    </tr>\n",
       "    <tr>\n",
       "      <th>4</th>\n",
       "      <td>iq</td>\n",
       "      <td>2001</td>\n",
       "      <td>6</td>\n",
       "      <td>0</td>\n",
       "      <td>2001-02-05</td>\n",
       "    </tr>\n",
       "    <tr>\n",
       "      <th>...</th>\n",
       "      <td>...</td>\n",
       "      <td>...</td>\n",
       "      <td>...</td>\n",
       "      <td>...</td>\n",
       "      <td>...</td>\n",
       "    </tr>\n",
       "    <tr>\n",
       "      <th>515</th>\n",
       "      <td>iq</td>\n",
       "      <td>2009</td>\n",
       "      <td>45</td>\n",
       "      <td>3</td>\n",
       "      <td>2009-11-02</td>\n",
       "    </tr>\n",
       "    <tr>\n",
       "      <th>516</th>\n",
       "      <td>iq</td>\n",
       "      <td>2009</td>\n",
       "      <td>46</td>\n",
       "      <td>9</td>\n",
       "      <td>2009-11-09</td>\n",
       "    </tr>\n",
       "    <tr>\n",
       "      <th>517</th>\n",
       "      <td>iq</td>\n",
       "      <td>2010</td>\n",
       "      <td>11</td>\n",
       "      <td>16</td>\n",
       "      <td>2010-03-15</td>\n",
       "    </tr>\n",
       "    <tr>\n",
       "      <th>518</th>\n",
       "      <td>iq</td>\n",
       "      <td>2010</td>\n",
       "      <td>15</td>\n",
       "      <td>6</td>\n",
       "      <td>2010-04-12</td>\n",
       "    </tr>\n",
       "    <tr>\n",
       "      <th>519</th>\n",
       "      <td>iq</td>\n",
       "      <td>2010</td>\n",
       "      <td>18</td>\n",
       "      <td>2</td>\n",
       "      <td>2010-05-03</td>\n",
       "    </tr>\n",
       "  </tbody>\n",
       "</table>\n",
       "<p>520 rows × 5 columns</p>\n",
       "</div>"
      ],
      "text/plain": [
       "    city  year  weekofyear  total_cases       date\n",
       "0     iq  2000          49            0 2000-12-04\n",
       "1     iq  2000          50            1 2000-12-11\n",
       "2     iq  2001           2            0 2001-01-08\n",
       "3     iq  2001           5            0 2001-01-29\n",
       "4     iq  2001           6            0 2001-02-05\n",
       "..   ...   ...         ...          ...        ...\n",
       "515   iq  2009          45            3 2009-11-02\n",
       "516   iq  2009          46            9 2009-11-09\n",
       "517   iq  2010          11           16 2010-03-15\n",
       "518   iq  2010          15            6 2010-04-12\n",
       "519   iq  2010          18            2 2010-05-03\n",
       "\n",
       "[520 rows x 5 columns]"
      ]
     },
     "execution_count": 23,
     "metadata": {},
     "output_type": "execute_result"
    }
   ],
   "source": [
    "# Assume df is your DataFrame, which has been created using Polars.\n",
    "\n",
    "# Convert the Polars DataFrame to a Pandas DataFrame\n",
    "city = 'iq'\n",
    "city_dengue = training_labels.filter(pl.col('city') == city).unique()\n",
    "df_pandas = city_dengue.to_pandas()\n",
    "\n",
    "# Define a function to convert year and week of the year to a date\n",
    "def weekyear_to_date(year, week):\n",
    "    d = datetime(year, 1, 1)\n",
    "    if d.weekday() <= 3:\n",
    "        d = d - timedelta(d.weekday())\n",
    "    else:\n",
    "        d = d + timedelta(7 - d.weekday())\n",
    "    d = d + timedelta(days=(week-1)*7)\n",
    "    return d\n",
    "\n",
    "# Create a new 'date' column using the function\n",
    "df_pandas['date'] = df_pandas.apply(lambda row: weekyear_to_date(row['year'], row['weekofyear']), axis=1)\n",
    "df_pandas\n",
    "\n",
    "# Now, you can use Plotly Express to create the line graph\n",
    "fig = px.line(df_pandas, x=\"date\", y=\"total_cases\", title='Line Graph: Target Variable by Date',\n",
    "              labels={'date': 'Date', \n",
    "                      'total_cases': f'Dengue Cases By Year in {\"San Juan, PR\" if city == \"sj\" else \"Iquitos, Perú\"}'})\n",
    "\n",
    "# Display the figure\n",
    "fig.show()\n"
   ]
  },
  {
   "cell_type": "code",
   "execution_count": null,
   "metadata": {},
   "outputs": [],
   "source": [
    "## I found the data on the Website, downloading the data"
   ]
  }
 ],
 "metadata": {
  "kernelspec": {
   "display_name": "07-project-Mi9wAmi5-python",
   "language": "python",
   "name": "python3"
  },
  "language_info": {
   "codemirror_mode": {
    "name": "ipython",
    "version": 3
   },
   "file_extension": ".py",
   "mimetype": "text/x-python",
   "name": "python",
   "nbconvert_exporter": "python",
   "pygments_lexer": "ipython3",
   "version": "3.10.9"
  },
  "orig_nbformat": 4
 },
 "nbformat": 4,
 "nbformat_minor": 2
}
