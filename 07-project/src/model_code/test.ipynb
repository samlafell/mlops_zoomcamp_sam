{
 "cells": [
  {
   "cell_type": "code",
   "execution_count": 16,
   "metadata": {},
   "outputs": [],
   "source": [
    "from pathlib import Path\n",
    "import configparser\n",
    "\n",
    "# Create a configparser object\n",
    "config = configparser.ConfigParser()\n",
    "\n",
    "# # Read the file\n",
    "# config.read(Path().resolve().parents[2] / '.aws')\n",
    "# access_key = config.get('default', 'aws_access_key_id')\n",
    "# secret_key = config.get('default', 'aws_secret_access_key')\n",
    "\n",
    "# Default Env File\n",
    "config.read(Path().resolve().parents[1] / '.env')\n",
    "MLFLOW_TRACKING_URI = config.get('mlflow', 'MLFLOW_TRACKING_URI')\n"
   ]
  },
  {
   "cell_type": "code",
   "execution_count": null,
   "metadata": {},
   "outputs": [],
   "source": [
    "\n",
    "MLFLOW_TRACKING_URI = config.get('mlflow', 'MLFLOW_TRACKING_URI')\n"
   ]
  },
  {
   "cell_type": "code",
   "execution_count": 11,
   "metadata": {},
   "outputs": [
    {
     "data": {
      "text/plain": [
       "PosixPath('/Users/samlafell/Desktop/mlops_zoomcamp_sam/07-project/.env')"
      ]
     },
     "execution_count": 11,
     "metadata": {},
     "output_type": "execute_result"
    }
   ],
   "source": [
    "Path().resolve().parents[1] / '.env'"
   ]
  },
  {
   "cell_type": "code",
   "execution_count": 14,
   "metadata": {},
   "outputs": [
    {
     "data": {
      "text/plain": [
       "PosixPath('/Users/samlafell/Desktop/mlops_zoomcamp_sam/07-project/src/model_code')"
      ]
     },
     "execution_count": 14,
     "metadata": {},
     "output_type": "execute_result"
    }
   ],
   "source": [
    "\n",
    "Path().resolve()"
   ]
  },
  {
   "cell_type": "code",
   "execution_count": null,
   "metadata": {},
   "outputs": [],
   "source": []
  }
 ],
 "metadata": {
  "kernelspec": {
   "display_name": "07-project-Mi9wAmi5-python",
   "language": "python",
   "name": "python3"
  },
  "language_info": {
   "codemirror_mode": {
    "name": "ipython",
    "version": 3
   },
   "file_extension": ".py",
   "mimetype": "text/x-python",
   "name": "python",
   "nbconvert_exporter": "python",
   "pygments_lexer": "ipython3",
   "version": "3.10.9"
  },
  "orig_nbformat": 4
 },
 "nbformat": 4,
 "nbformat_minor": 2
}
