{
 "cells": [
  {
   "cell_type": "code",
   "execution_count": 3,
   "metadata": {},
   "outputs": [],
   "source": [
    "import os\n",
    "\n",
    "import pickle\n",
    "\n",
    "import pandas as pd\n",
    "\n",
    "import mlflow\n",
    "\n",
    "from sklearn.feature_extraction import DictVectorizer\n",
    "from sklearn.ensemble import RandomForestRegressor\n",
    "from sklearn.metrics import mean_squared_error\n",
    "from sklearn.pipeline import make_pipeline\n",
    "\n",
    "import pathlib\n",
    "\n",
    "import uuid"
   ]
  },
  {
   "cell_type": "code",
   "execution_count": 4,
   "metadata": {},
   "outputs": [],
   "source": [
    "RUN_ID = '602e2fa2a0df4f5a87eef98f93b79090'\n",
    "EXP_ID = '1'\n",
    "\n",
    "### Download Data from Internet\n",
    "year = 2021\n",
    "month = 2\n",
    "taxi_type = 'green'\n",
    "input_file = f'https://d37ci6vzurychx.cloudfront.net/trip-data/{taxi_type}_tripdata_{year:04d}-{month:02d}.parquet'\n",
    "output_file = f'output/{taxi_type}/{year:04d}-{month:02d}.parquet'"
   ]
  },
  {
   "cell_type": "code",
   "execution_count": 5,
   "metadata": {},
   "outputs": [
    {
     "name": "stdout",
     "output_type": "stream",
     "text": [
      "mkdir: cannot create directory ‘output/green’: File exists\n"
     ]
    }
   ],
   "source": [
    "# Have to create directory\n",
    "!mkdir output/green"
   ]
  },
  {
   "cell_type": "code",
   "execution_count": 6,
   "metadata": {},
   "outputs": [],
   "source": [
    "def generate_uuids(n):\n",
    "    ride_ids = []\n",
    "    # Create Ride IDs with UUID\n",
    "    for i in range(n):\n",
    "        ride_ids.append(str(uuid.uuid4()))\n",
    "    return ride_ids\n",
    "\n",
    "def read_dataframe(filename: str):\n",
    "    df = pd.read_parquet(filename)\n",
    "    df['duration'] = df.lpep_dropoff_datetime - df.lpep_pickup_datetime\n",
    "    df.duration = df.duration.dt.total_seconds() / 60\n",
    "    df = df[(df.duration >= 1) & (df.duration <= 60)]\n",
    "    df['ride_id'] = generate_uuids(len(df))\n",
    "    return df\n",
    "\n",
    "\n",
    "def prepare_dictionaries(df: pd.DataFrame):\n",
    "    categorical = ['PULocationID', 'DOLocationID']\n",
    "    df[categorical] = df[categorical].astype(str)\n",
    "    \n",
    "    df['PU_DO'] = df['PULocationID'] + '_' + df['DOLocationID']\n",
    "    categorical = ['PU_DO']\n",
    "    numerical = ['trip_distance']\n",
    "    dicts = df[categorical + numerical].to_dict(orient='records')\n",
    "    return dicts\n"
   ]
  },
  {
   "cell_type": "code",
   "execution_count": 9,
   "metadata": {},
   "outputs": [],
   "source": [
    "def load_model(exp_id, run_id):\n",
    "    logged_model = logged_model = f's3://mlops-week4/{exp_id}/{run_id}/artifacts/model'\n",
    "    model = mlflow.pyfunc.load_model(logged_model)\n",
    "    return model\n",
    "\n",
    "def apply_model(input_file, run_id, output_file):\n",
    "    df = read_dataframe(input_file)\n",
    "    dict_features = prepare_dictionaries(df)\n",
    "    model = load_model('1', run_id)\n",
    "    y_pred = model.predict(dict_features)\n",
    "    \n",
    "    df_result = pd.DataFrame()\n",
    "    df_result['ride_id'] = df['ride_id']\n",
    "    df_result['lpep_pickup_datetime'] = df['lpep_pickup_datetime']\n",
    "    df_result['lpep_dropoff_datetime'] = df['lpep_dropoff_datetime']\n",
    "    df_result['PULocationID'] = df['PULocationID']\n",
    "    df_result['DOLocationID'] = df['DOLocationID']\n",
    "    df_result['actual_duration'] = df['duration']\n",
    "    df_result['predicted_duration'] = y_pred\n",
    "    df_result['diff'] = df_result['actual_duration'] - df_result['predicted_duration']\n",
    "    df_result['model_version'] = run_id\n",
    "    \n",
    "    df_result.to_parquet(output_file, index=False)"
   ]
  },
  {
   "cell_type": "code",
   "execution_count": 10,
   "metadata": {},
   "outputs": [
    {
     "name": "stderr",
     "output_type": "stream",
     "text": [
      "2023/06/21 01:25:16 WARNING mlflow.pyfunc: Detected one or more mismatches between the model's dependencies and the current Python environment:\n",
      " - mlflow (current: 2.4.1, required: mlflow==2.4)\n",
      "To fix the mismatches, call `mlflow.pyfunc.get_model_dependencies(model_uri)` to fetch the model's environment and install dependencies using the resulting environment file.\n"
     ]
    }
   ],
   "source": [
    "apply_model(input_file, '602e2fa2a0df4f5a87eef98f93b79090', output_file)"
   ]
  },
  {
   "cell_type": "code",
   "execution_count": 11,
   "metadata": {},
   "outputs": [
    {
     "name": "stdout",
     "output_type": "stream",
     "text": [
      "2021-03.parquet\n"
     ]
    }
   ],
   "source": [
    "!ls output/green"
   ]
  },
  {
   "cell_type": "code",
   "execution_count": null,
   "metadata": {},
   "outputs": [],
   "source": []
  }
 ],
 "metadata": {
  "kernelspec": {
   "display_name": "exp_tracking_env",
   "language": "python",
   "name": "python3"
  },
  "language_info": {
   "codemirror_mode": {
    "name": "ipython",
    "version": 3
   },
   "file_extension": ".py",
   "mimetype": "text/x-python",
   "name": "python",
   "nbconvert_exporter": "python",
   "pygments_lexer": "ipython3",
   "version": "3.10.9"
  },
  "orig_nbformat": 4
 },
 "nbformat": 4,
 "nbformat_minor": 2
}
